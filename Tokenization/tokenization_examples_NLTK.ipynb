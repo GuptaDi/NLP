{
 "cells": [
  {
   "cell_type": "code",
   "execution_count": 29,
   "metadata": {},
   "outputs": [
    {
     "name": "stdout",
     "output_type": "stream",
     "text": [
      "Hello, welcome to the world of NLP's. We will practice! some examples of NLP. \n",
      "<class 'str'>\n"
     ]
    }
   ],
   "source": [
    "# Simple corpus with multiple sentence\n",
    "corpus = \"\"\"Hello, welcome to the world of NLP's. We will practice! some examples of NLP. \"\"\"\n",
    "\n",
    "print(corpus)\n",
    "print(type(corpus))"
   ]
  },
  {
   "cell_type": "code",
   "execution_count": 30,
   "metadata": {},
   "outputs": [
    {
     "name": "stdout",
     "output_type": "stream",
     "text": [
      "[\"Hello, welcome to the world of NLP's.\", 'We will practice!', 'some examples of NLP.']\n"
     ]
    }
   ],
   "source": [
    "## Tokenization \n",
    "## Sentences from a document\n",
    "import nltk\n",
    "from nltk.tokenize import sent_tokenize\n",
    "\n",
    "documents = sent_tokenize(corpus)\n",
    "#### From \"!\" and \".\"  it break the sentence.\n",
    "\n",
    "print(documents)"
   ]
  },
  {
   "cell_type": "code",
   "execution_count": 31,
   "metadata": {},
   "outputs": [
    {
     "data": {
      "text/plain": [
       "list"
      ]
     },
     "execution_count": 31,
     "metadata": {},
     "output_type": "execute_result"
    }
   ],
   "source": [
    "type(documents)"
   ]
  },
  {
   "cell_type": "code",
   "execution_count": 32,
   "metadata": {},
   "outputs": [
    {
     "name": "stdout",
     "output_type": "stream",
     "text": [
      "Hello, welcome to the world of NLP's.\n",
      "We will practice!\n",
      "some examples of NLP.\n"
     ]
    }
   ],
   "source": [
    "### printing sentences\n",
    "for sentence in documents:\n",
    "    print(sentence)"
   ]
  },
  {
   "cell_type": "code",
   "execution_count": 33,
   "metadata": {},
   "outputs": [],
   "source": [
    "## Tokenization \n",
    "## Paragraph-->words\n",
    "## sentence--->words\n",
    "from nltk.tokenize import word_tokenize"
   ]
  },
  {
   "cell_type": "code",
   "execution_count": null,
   "metadata": {},
   "outputs": [
    {
     "data": {
      "text/plain": [
       "['Hello',\n",
       " ',',\n",
       " 'welcome',\n",
       " 'to',\n",
       " 'the',\n",
       " 'world',\n",
       " 'of',\n",
       " 'NLP',\n",
       " \"'s\",\n",
       " '.',\n",
       " 'We',\n",
       " 'will',\n",
       " 'practice',\n",
       " '!',\n",
       " 'some',\n",
       " 'examples',\n",
       " 'of',\n",
       " 'NLP',\n",
       " '.']"
      ]
     },
     "execution_count": 27,
     "metadata": {},
     "output_type": "execute_result"
    }
   ],
   "source": [
    "word_tokenize(corpus) ### every word is breakdown including .,!  Note : 's is not breakdown"
   ]
  },
  {
   "cell_type": "code",
   "execution_count": 28,
   "metadata": {},
   "outputs": [
    {
     "name": "stdout",
     "output_type": "stream",
     "text": [
      "['Hello', ',', 'welcome', 'to', 'the', 'world', 'of', 'NLP', '.']\n",
      "['We', 'will', 'practice', '!']\n",
      "['some', 'examples', 'of', 'NLP', '.']\n"
     ]
    }
   ],
   "source": [
    "### Word tokenize on sentences\n",
    "for sentence in documents:\n",
    "    print(word_tokenize(sentence))"
   ]
  },
  {
   "cell_type": "code",
   "execution_count": null,
   "metadata": {},
   "outputs": [
    {
     "data": {
      "text/plain": [
       "['Hello',\n",
       " ',',\n",
       " 'welcome',\n",
       " 'to',\n",
       " 'the',\n",
       " 'world',\n",
       " 'of',\n",
       " 'NLP',\n",
       " \"'\",\n",
       " 's',\n",
       " '.',\n",
       " 'We',\n",
       " 'will',\n",
       " 'practice',\n",
       " '!',\n",
       " 'some',\n",
       " 'examples',\n",
       " 'of',\n",
       " 'NLP',\n",
       " '.']"
      ]
     },
     "execution_count": 34,
     "metadata": {},
     "output_type": "execute_result"
    }
   ],
   "source": [
    "from nltk.tokenize import wordpunct_tokenize\n",
    "wordpunct_tokenize(corpus)   # 's is also got breakdown"
   ]
  },
  {
   "cell_type": "code",
   "execution_count": 36,
   "metadata": {},
   "outputs": [
    {
     "data": {
      "text/plain": [
       "['Hello',\n",
       " ',',\n",
       " 'welcome',\n",
       " 'to',\n",
       " 'the',\n",
       " 'world',\n",
       " 'of',\n",
       " \"NLP's.\",\n",
       " 'We',\n",
       " 'will',\n",
       " 'practice',\n",
       " '!',\n",
       " 'some',\n",
       " 'examples',\n",
       " 'of',\n",
       " 'NLP',\n",
       " '.']"
      ]
     },
     "execution_count": 36,
     "metadata": {},
     "output_type": "execute_result"
    }
   ],
   "source": [
    "from nltk.tokenize import TreebankWordTokenizer\n",
    "\n",
    "tokenizer=TreebankWordTokenizer()\n",
    "tokenizer.tokenize(corpus)    # \".\" is not treated as a separate word. Only the last word, fullstop will be separate.\n"
   ]
  }
 ],
 "metadata": {
  "kernelspec": {
   "display_name": "Python 3",
   "language": "python",
   "name": "python3"
  },
  "language_info": {
   "codemirror_mode": {
    "name": "ipython",
    "version": 3
   },
   "file_extension": ".py",
   "mimetype": "text/x-python",
   "name": "python",
   "nbconvert_exporter": "python",
   "pygments_lexer": "ipython3",
   "version": "3.13.4"
  }
 },
 "nbformat": 4,
 "nbformat_minor": 2
}
